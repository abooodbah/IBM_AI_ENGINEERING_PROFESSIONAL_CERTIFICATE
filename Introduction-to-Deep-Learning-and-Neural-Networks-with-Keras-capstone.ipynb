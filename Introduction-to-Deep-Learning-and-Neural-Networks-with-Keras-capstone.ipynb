{
 "cells": [
  {
   "cell_type": "code",
   "execution_count": 26,
   "metadata": {
    "colab": {
     "base_uri": "https://localhost:8080/"
    },
    "id": "F0IYvRWgF79i",
    "outputId": "e50571fa-2b85-4da1-daf4-8b5efcaa06d2"
   },
   "outputs": [
    {
     "name": "stdout",
     "output_type": "stream",
     "text": [
      "2.8.0\n"
     ]
    }
   ],
   "source": [
    "import tensorflow as tf\n",
    "\n",
    "from tensorflow import keras\n",
    "from tensorflow.keras import layers\n",
    "from keras.models import Sequential\n",
    "from keras.layers import Dense\n",
    "\n",
    "\n",
    "from sklearn.model_selection import train_test_split\n",
    "from sklearn.preprocessing import StandardScaler\n",
    "from sklearn import preprocessing\n",
    "from sklearn.metrics import mean_squared_error\n",
    "\n",
    "\n",
    "\n",
    "print(tf.__version__)\n",
    "\n",
    "import matplotlib.pyplot as plt\n",
    "import numpy as np\n",
    "import pandas as pd\n",
    "import seaborn as sns\n",
    "from tqdm import tqdm\n",
    "\n",
    "# Make NumPy printouts easier to read.\n",
    "np.set_printoptions(precision=3, suppress=True)"
   ]
  },
  {
   "cell_type": "code",
   "execution_count": 27,
   "metadata": {
    "id": "qn4GrUp8Gdd7"
   },
   "outputs": [],
   "source": [
    "url = 'https://cocl.us/concrete_data'\n",
    "df = pd.read_csv(url)"
   ]
  },
  {
   "cell_type": "code",
   "execution_count": 28,
   "metadata": {
    "colab": {
     "base_uri": "https://localhost:8080/",
     "height": 206
    },
    "id": "ed2ZA2vpKmyI",
    "outputId": "626c8b87-cc81-4572-8694-70bead2613b7"
   },
   "outputs": [
    {
     "data": {
      "text/html": [
       "\n",
       "  <div id=\"df-f3aa6ff6-5841-46dd-884b-efa55596104f\">\n",
       "    <div class=\"colab-df-container\">\n",
       "      <div>\n",
       "<style scoped>\n",
       "    .dataframe tbody tr th:only-of-type {\n",
       "        vertical-align: middle;\n",
       "    }\n",
       "\n",
       "    .dataframe tbody tr th {\n",
       "        vertical-align: top;\n",
       "    }\n",
       "\n",
       "    .dataframe thead th {\n",
       "        text-align: right;\n",
       "    }\n",
       "</style>\n",
       "<table border=\"1\" class=\"dataframe\">\n",
       "  <thead>\n",
       "    <tr style=\"text-align: right;\">\n",
       "      <th></th>\n",
       "      <th>Cement</th>\n",
       "      <th>Blast Furnace Slag</th>\n",
       "      <th>Fly Ash</th>\n",
       "      <th>Water</th>\n",
       "      <th>Superplasticizer</th>\n",
       "      <th>Coarse Aggregate</th>\n",
       "      <th>Fine Aggregate</th>\n",
       "      <th>Age</th>\n",
       "      <th>Strength</th>\n",
       "    </tr>\n",
       "  </thead>\n",
       "  <tbody>\n",
       "    <tr>\n",
       "      <th>0</th>\n",
       "      <td>540.0</td>\n",
       "      <td>0.0</td>\n",
       "      <td>0.0</td>\n",
       "      <td>162.0</td>\n",
       "      <td>2.5</td>\n",
       "      <td>1040.0</td>\n",
       "      <td>676.0</td>\n",
       "      <td>28</td>\n",
       "      <td>79.99</td>\n",
       "    </tr>\n",
       "    <tr>\n",
       "      <th>1</th>\n",
       "      <td>540.0</td>\n",
       "      <td>0.0</td>\n",
       "      <td>0.0</td>\n",
       "      <td>162.0</td>\n",
       "      <td>2.5</td>\n",
       "      <td>1055.0</td>\n",
       "      <td>676.0</td>\n",
       "      <td>28</td>\n",
       "      <td>61.89</td>\n",
       "    </tr>\n",
       "    <tr>\n",
       "      <th>2</th>\n",
       "      <td>332.5</td>\n",
       "      <td>142.5</td>\n",
       "      <td>0.0</td>\n",
       "      <td>228.0</td>\n",
       "      <td>0.0</td>\n",
       "      <td>932.0</td>\n",
       "      <td>594.0</td>\n",
       "      <td>270</td>\n",
       "      <td>40.27</td>\n",
       "    </tr>\n",
       "    <tr>\n",
       "      <th>3</th>\n",
       "      <td>332.5</td>\n",
       "      <td>142.5</td>\n",
       "      <td>0.0</td>\n",
       "      <td>228.0</td>\n",
       "      <td>0.0</td>\n",
       "      <td>932.0</td>\n",
       "      <td>594.0</td>\n",
       "      <td>365</td>\n",
       "      <td>41.05</td>\n",
       "    </tr>\n",
       "    <tr>\n",
       "      <th>4</th>\n",
       "      <td>198.6</td>\n",
       "      <td>132.4</td>\n",
       "      <td>0.0</td>\n",
       "      <td>192.0</td>\n",
       "      <td>0.0</td>\n",
       "      <td>978.4</td>\n",
       "      <td>825.5</td>\n",
       "      <td>360</td>\n",
       "      <td>44.30</td>\n",
       "    </tr>\n",
       "  </tbody>\n",
       "</table>\n",
       "</div>\n",
       "      <button class=\"colab-df-convert\" onclick=\"convertToInteractive('df-f3aa6ff6-5841-46dd-884b-efa55596104f')\"\n",
       "              title=\"Convert this dataframe to an interactive table.\"\n",
       "              style=\"display:none;\">\n",
       "        \n",
       "  <svg xmlns=\"http://www.w3.org/2000/svg\" height=\"24px\"viewBox=\"0 0 24 24\"\n",
       "       width=\"24px\">\n",
       "    <path d=\"M0 0h24v24H0V0z\" fill=\"none\"/>\n",
       "    <path d=\"M18.56 5.44l.94 2.06.94-2.06 2.06-.94-2.06-.94-.94-2.06-.94 2.06-2.06.94zm-11 1L8.5 8.5l.94-2.06 2.06-.94-2.06-.94L8.5 2.5l-.94 2.06-2.06.94zm10 10l.94 2.06.94-2.06 2.06-.94-2.06-.94-.94-2.06-.94 2.06-2.06.94z\"/><path d=\"M17.41 7.96l-1.37-1.37c-.4-.4-.92-.59-1.43-.59-.52 0-1.04.2-1.43.59L10.3 9.45l-7.72 7.72c-.78.78-.78 2.05 0 2.83L4 21.41c.39.39.9.59 1.41.59.51 0 1.02-.2 1.41-.59l7.78-7.78 2.81-2.81c.8-.78.8-2.07 0-2.86zM5.41 20L4 18.59l7.72-7.72 1.47 1.35L5.41 20z\"/>\n",
       "  </svg>\n",
       "      </button>\n",
       "      \n",
       "  <style>\n",
       "    .colab-df-container {\n",
       "      display:flex;\n",
       "      flex-wrap:wrap;\n",
       "      gap: 12px;\n",
       "    }\n",
       "\n",
       "    .colab-df-convert {\n",
       "      background-color: #E8F0FE;\n",
       "      border: none;\n",
       "      border-radius: 50%;\n",
       "      cursor: pointer;\n",
       "      display: none;\n",
       "      fill: #1967D2;\n",
       "      height: 32px;\n",
       "      padding: 0 0 0 0;\n",
       "      width: 32px;\n",
       "    }\n",
       "\n",
       "    .colab-df-convert:hover {\n",
       "      background-color: #E2EBFA;\n",
       "      box-shadow: 0px 1px 2px rgba(60, 64, 67, 0.3), 0px 1px 3px 1px rgba(60, 64, 67, 0.15);\n",
       "      fill: #174EA6;\n",
       "    }\n",
       "\n",
       "    [theme=dark] .colab-df-convert {\n",
       "      background-color: #3B4455;\n",
       "      fill: #D2E3FC;\n",
       "    }\n",
       "\n",
       "    [theme=dark] .colab-df-convert:hover {\n",
       "      background-color: #434B5C;\n",
       "      box-shadow: 0px 1px 3px 1px rgba(0, 0, 0, 0.15);\n",
       "      filter: drop-shadow(0px 1px 2px rgba(0, 0, 0, 0.3));\n",
       "      fill: #FFFFFF;\n",
       "    }\n",
       "  </style>\n",
       "\n",
       "      <script>\n",
       "        const buttonEl =\n",
       "          document.querySelector('#df-f3aa6ff6-5841-46dd-884b-efa55596104f button.colab-df-convert');\n",
       "        buttonEl.style.display =\n",
       "          google.colab.kernel.accessAllowed ? 'block' : 'none';\n",
       "\n",
       "        async function convertToInteractive(key) {\n",
       "          const element = document.querySelector('#df-f3aa6ff6-5841-46dd-884b-efa55596104f');\n",
       "          const dataTable =\n",
       "            await google.colab.kernel.invokeFunction('convertToInteractive',\n",
       "                                                     [key], {});\n",
       "          if (!dataTable) return;\n",
       "\n",
       "          const docLinkHtml = 'Like what you see? Visit the ' +\n",
       "            '<a target=\"_blank\" href=https://colab.research.google.com/notebooks/data_table.ipynb>data table notebook</a>'\n",
       "            + ' to learn more about interactive tables.';\n",
       "          element.innerHTML = '';\n",
       "          dataTable['output_type'] = 'display_data';\n",
       "          await google.colab.output.renderOutput(dataTable, element);\n",
       "          const docLink = document.createElement('div');\n",
       "          docLink.innerHTML = docLinkHtml;\n",
       "          element.appendChild(docLink);\n",
       "        }\n",
       "      </script>\n",
       "    </div>\n",
       "  </div>\n",
       "  "
      ],
      "text/plain": [
       "   Cement  Blast Furnace Slag  Fly Ash  Water  Superplasticizer  \\\n",
       "0   540.0                 0.0      0.0  162.0               2.5   \n",
       "1   540.0                 0.0      0.0  162.0               2.5   \n",
       "2   332.5               142.5      0.0  228.0               0.0   \n",
       "3   332.5               142.5      0.0  228.0               0.0   \n",
       "4   198.6               132.4      0.0  192.0               0.0   \n",
       "\n",
       "   Coarse Aggregate  Fine Aggregate  Age  Strength  \n",
       "0            1040.0           676.0   28     79.99  \n",
       "1            1055.0           676.0   28     61.89  \n",
       "2             932.0           594.0  270     40.27  \n",
       "3             932.0           594.0  365     41.05  \n",
       "4             978.4           825.5  360     44.30  "
      ]
     },
     "execution_count": 28,
     "metadata": {},
     "output_type": "execute_result"
    }
   ],
   "source": [
    "df.head()"
   ]
  },
  {
   "cell_type": "code",
   "execution_count": 29,
   "metadata": {
    "colab": {
     "base_uri": "https://localhost:8080/",
     "height": 332
    },
    "id": "S_NtL9QR4qhy",
    "outputId": "9bbfc763-6b1f-4ccd-d623-df0b87201987"
   },
   "outputs": [
    {
     "data": {
      "text/html": [
       "\n",
       "  <div id=\"df-0b82a4e6-5a43-4e00-800c-937af1549af5\">\n",
       "    <div class=\"colab-df-container\">\n",
       "      <div>\n",
       "<style scoped>\n",
       "    .dataframe tbody tr th:only-of-type {\n",
       "        vertical-align: middle;\n",
       "    }\n",
       "\n",
       "    .dataframe tbody tr th {\n",
       "        vertical-align: top;\n",
       "    }\n",
       "\n",
       "    .dataframe thead th {\n",
       "        text-align: right;\n",
       "    }\n",
       "</style>\n",
       "<table border=\"1\" class=\"dataframe\">\n",
       "  <thead>\n",
       "    <tr style=\"text-align: right;\">\n",
       "      <th></th>\n",
       "      <th>mean</th>\n",
       "      <th>std</th>\n",
       "    </tr>\n",
       "  </thead>\n",
       "  <tbody>\n",
       "    <tr>\n",
       "      <th>Cement</th>\n",
       "      <td>281.167864</td>\n",
       "      <td>104.506364</td>\n",
       "    </tr>\n",
       "    <tr>\n",
       "      <th>Blast Furnace Slag</th>\n",
       "      <td>73.895825</td>\n",
       "      <td>86.279342</td>\n",
       "    </tr>\n",
       "    <tr>\n",
       "      <th>Fly Ash</th>\n",
       "      <td>54.188350</td>\n",
       "      <td>63.997004</td>\n",
       "    </tr>\n",
       "    <tr>\n",
       "      <th>Water</th>\n",
       "      <td>181.567282</td>\n",
       "      <td>21.354219</td>\n",
       "    </tr>\n",
       "    <tr>\n",
       "      <th>Superplasticizer</th>\n",
       "      <td>6.204660</td>\n",
       "      <td>5.973841</td>\n",
       "    </tr>\n",
       "    <tr>\n",
       "      <th>Coarse Aggregate</th>\n",
       "      <td>972.918932</td>\n",
       "      <td>77.753954</td>\n",
       "    </tr>\n",
       "    <tr>\n",
       "      <th>Fine Aggregate</th>\n",
       "      <td>773.580485</td>\n",
       "      <td>80.175980</td>\n",
       "    </tr>\n",
       "    <tr>\n",
       "      <th>Age</th>\n",
       "      <td>45.662136</td>\n",
       "      <td>63.169912</td>\n",
       "    </tr>\n",
       "    <tr>\n",
       "      <th>Strength</th>\n",
       "      <td>35.817961</td>\n",
       "      <td>16.705742</td>\n",
       "    </tr>\n",
       "  </tbody>\n",
       "</table>\n",
       "</div>\n",
       "      <button class=\"colab-df-convert\" onclick=\"convertToInteractive('df-0b82a4e6-5a43-4e00-800c-937af1549af5')\"\n",
       "              title=\"Convert this dataframe to an interactive table.\"\n",
       "              style=\"display:none;\">\n",
       "        \n",
       "  <svg xmlns=\"http://www.w3.org/2000/svg\" height=\"24px\"viewBox=\"0 0 24 24\"\n",
       "       width=\"24px\">\n",
       "    <path d=\"M0 0h24v24H0V0z\" fill=\"none\"/>\n",
       "    <path d=\"M18.56 5.44l.94 2.06.94-2.06 2.06-.94-2.06-.94-.94-2.06-.94 2.06-2.06.94zm-11 1L8.5 8.5l.94-2.06 2.06-.94-2.06-.94L8.5 2.5l-.94 2.06-2.06.94zm10 10l.94 2.06.94-2.06 2.06-.94-2.06-.94-.94-2.06-.94 2.06-2.06.94z\"/><path d=\"M17.41 7.96l-1.37-1.37c-.4-.4-.92-.59-1.43-.59-.52 0-1.04.2-1.43.59L10.3 9.45l-7.72 7.72c-.78.78-.78 2.05 0 2.83L4 21.41c.39.39.9.59 1.41.59.51 0 1.02-.2 1.41-.59l7.78-7.78 2.81-2.81c.8-.78.8-2.07 0-2.86zM5.41 20L4 18.59l7.72-7.72 1.47 1.35L5.41 20z\"/>\n",
       "  </svg>\n",
       "      </button>\n",
       "      \n",
       "  <style>\n",
       "    .colab-df-container {\n",
       "      display:flex;\n",
       "      flex-wrap:wrap;\n",
       "      gap: 12px;\n",
       "    }\n",
       "\n",
       "    .colab-df-convert {\n",
       "      background-color: #E8F0FE;\n",
       "      border: none;\n",
       "      border-radius: 50%;\n",
       "      cursor: pointer;\n",
       "      display: none;\n",
       "      fill: #1967D2;\n",
       "      height: 32px;\n",
       "      padding: 0 0 0 0;\n",
       "      width: 32px;\n",
       "    }\n",
       "\n",
       "    .colab-df-convert:hover {\n",
       "      background-color: #E2EBFA;\n",
       "      box-shadow: 0px 1px 2px rgba(60, 64, 67, 0.3), 0px 1px 3px 1px rgba(60, 64, 67, 0.15);\n",
       "      fill: #174EA6;\n",
       "    }\n",
       "\n",
       "    [theme=dark] .colab-df-convert {\n",
       "      background-color: #3B4455;\n",
       "      fill: #D2E3FC;\n",
       "    }\n",
       "\n",
       "    [theme=dark] .colab-df-convert:hover {\n",
       "      background-color: #434B5C;\n",
       "      box-shadow: 0px 1px 3px 1px rgba(0, 0, 0, 0.15);\n",
       "      filter: drop-shadow(0px 1px 2px rgba(0, 0, 0, 0.3));\n",
       "      fill: #FFFFFF;\n",
       "    }\n",
       "  </style>\n",
       "\n",
       "      <script>\n",
       "        const buttonEl =\n",
       "          document.querySelector('#df-0b82a4e6-5a43-4e00-800c-937af1549af5 button.colab-df-convert');\n",
       "        buttonEl.style.display =\n",
       "          google.colab.kernel.accessAllowed ? 'block' : 'none';\n",
       "\n",
       "        async function convertToInteractive(key) {\n",
       "          const element = document.querySelector('#df-0b82a4e6-5a43-4e00-800c-937af1549af5');\n",
       "          const dataTable =\n",
       "            await google.colab.kernel.invokeFunction('convertToInteractive',\n",
       "                                                     [key], {});\n",
       "          if (!dataTable) return;\n",
       "\n",
       "          const docLinkHtml = 'Like what you see? Visit the ' +\n",
       "            '<a target=\"_blank\" href=https://colab.research.google.com/notebooks/data_table.ipynb>data table notebook</a>'\n",
       "            + ' to learn more about interactive tables.';\n",
       "          element.innerHTML = '';\n",
       "          dataTable['output_type'] = 'display_data';\n",
       "          await google.colab.output.renderOutput(dataTable, element);\n",
       "          const docLink = document.createElement('div');\n",
       "          docLink.innerHTML = docLinkHtml;\n",
       "          element.appendChild(docLink);\n",
       "        }\n",
       "      </script>\n",
       "    </div>\n",
       "  </div>\n",
       "  "
      ],
      "text/plain": [
       "                          mean         std\n",
       "Cement              281.167864  104.506364\n",
       "Blast Furnace Slag   73.895825   86.279342\n",
       "Fly Ash              54.188350   63.997004\n",
       "Water               181.567282   21.354219\n",
       "Superplasticizer      6.204660    5.973841\n",
       "Coarse Aggregate    972.918932   77.753954\n",
       "Fine Aggregate      773.580485   80.175980\n",
       "Age                  45.662136   63.169912\n",
       "Strength             35.817961   16.705742"
      ]
     },
     "execution_count": 29,
     "metadata": {},
     "output_type": "execute_result"
    }
   ],
   "source": [
    "df.describe().transpose()[['mean', 'std']]"
   ]
  },
  {
   "cell_type": "code",
   "execution_count": 30,
   "metadata": {
    "id": "1E59Xc4h2NVC"
   },
   "outputs": [],
   "source": [
    "X = df.drop(columns  = \"Strength\", inplace = False)\n",
    "y = df[\"Strength\"]"
   ]
  },
  {
   "cell_type": "code",
   "execution_count": 31,
   "metadata": {
    "id": "NUgylpaJ1Kn_"
   },
   "outputs": [],
   "source": [
    "#since data ranges differ data must be normalized\n",
    "X_train, X_test, y_train, y_test = train_test_split(X, y, random_state=42, test_size=0.3)"
   ]
  },
  {
   "cell_type": "code",
   "execution_count": 32,
   "metadata": {
    "colab": {
     "base_uri": "https://localhost:8080/"
    },
    "id": "DmT9t2wt7Fgt",
    "outputId": "7b936803-9766-4b05-832a-30f8d0679e21"
   },
   "outputs": [
    {
     "name": "stdout",
     "output_type": "stream",
     "text": [
      "(721, 8)\n"
     ]
    }
   ],
   "source": [
    "print(X_train.shape)"
   ]
  },
  {
   "cell_type": "markdown",
   "metadata": {
    "id": "uLBbTaVtDiS2"
   },
   "source": [
    "## A. One hidden layer of 10 nodes, and a ReLU activation function"
   ]
  },
  {
   "cell_type": "code",
   "execution_count": 33,
   "metadata": {
    "id": "WkNheWKl2aRi"
   },
   "outputs": [],
   "source": [
    "#creating a simple regression neural network\n",
    "model = Sequential()\n",
    "model.add(Dense(10, input_dim=8, activation= \"relu\"))\n",
    "model.add(Dense(1))"
   ]
  },
  {
   "cell_type": "code",
   "execution_count": 34,
   "metadata": {
    "colab": {
     "base_uri": "https://localhost:8080/"
    },
    "id": "0jb5fthw69d5",
    "outputId": "60df9b80-48ff-421b-c375-4420b4ca8a4b"
   },
   "outputs": [
    {
     "name": "stdout",
     "output_type": "stream",
     "text": [
      "Epoch 1/50\n",
      "23/23 [==============================] - 0s 2ms/step - loss: 23856.1055 - mean_squared_error: 23856.1055\n",
      "Epoch 2/50\n",
      "23/23 [==============================] - 0s 2ms/step - loss: 5512.0391 - mean_squared_error: 5512.0391\n",
      "Epoch 3/50\n",
      "23/23 [==============================] - 0s 2ms/step - loss: 662.5056 - mean_squared_error: 662.5056\n",
      "Epoch 4/50\n",
      "23/23 [==============================] - 0s 2ms/step - loss: 291.4253 - mean_squared_error: 291.4253\n",
      "Epoch 5/50\n",
      "23/23 [==============================] - 0s 1ms/step - loss: 289.2718 - mean_squared_error: 289.2718\n",
      "Epoch 6/50\n",
      "23/23 [==============================] - 0s 1ms/step - loss: 281.3294 - mean_squared_error: 281.3294\n",
      "Epoch 7/50\n",
      "23/23 [==============================] - 0s 2ms/step - loss: 276.7865 - mean_squared_error: 276.7865\n",
      "Epoch 8/50\n",
      "23/23 [==============================] - 0s 2ms/step - loss: 273.6828 - mean_squared_error: 273.6828\n",
      "Epoch 9/50\n",
      "23/23 [==============================] - 0s 2ms/step - loss: 269.6444 - mean_squared_error: 269.6444\n",
      "Epoch 10/50\n",
      "23/23 [==============================] - 0s 2ms/step - loss: 265.7650 - mean_squared_error: 265.7650\n",
      "Epoch 11/50\n",
      "23/23 [==============================] - 0s 2ms/step - loss: 261.4076 - mean_squared_error: 261.4076\n",
      "Epoch 12/50\n",
      "23/23 [==============================] - 0s 2ms/step - loss: 257.7907 - mean_squared_error: 257.7907\n",
      "Epoch 13/50\n",
      "23/23 [==============================] - 0s 1ms/step - loss: 254.1016 - mean_squared_error: 254.1016\n",
      "Epoch 14/50\n",
      "23/23 [==============================] - 0s 1ms/step - loss: 250.6333 - mean_squared_error: 250.6333\n",
      "Epoch 15/50\n",
      "23/23 [==============================] - 0s 2ms/step - loss: 247.1516 - mean_squared_error: 247.1516\n",
      "Epoch 16/50\n",
      "23/23 [==============================] - 0s 2ms/step - loss: 243.2425 - mean_squared_error: 243.2425\n",
      "Epoch 17/50\n",
      "23/23 [==============================] - 0s 2ms/step - loss: 240.6725 - mean_squared_error: 240.6725\n",
      "Epoch 18/50\n",
      "23/23 [==============================] - 0s 2ms/step - loss: 237.2256 - mean_squared_error: 237.2256\n",
      "Epoch 19/50\n",
      "23/23 [==============================] - 0s 2ms/step - loss: 233.2093 - mean_squared_error: 233.2093\n",
      "Epoch 20/50\n",
      "23/23 [==============================] - 0s 2ms/step - loss: 231.1960 - mean_squared_error: 231.1960\n",
      "Epoch 21/50\n",
      "23/23 [==============================] - 0s 2ms/step - loss: 227.4845 - mean_squared_error: 227.4845\n",
      "Epoch 22/50\n",
      "23/23 [==============================] - 0s 2ms/step - loss: 225.3559 - mean_squared_error: 225.3559\n",
      "Epoch 23/50\n",
      "23/23 [==============================] - 0s 2ms/step - loss: 221.9920 - mean_squared_error: 221.9920\n",
      "Epoch 24/50\n",
      "23/23 [==============================] - 0s 2ms/step - loss: 219.1425 - mean_squared_error: 219.1425\n",
      "Epoch 25/50\n",
      "23/23 [==============================] - 0s 1ms/step - loss: 216.7465 - mean_squared_error: 216.7465\n",
      "Epoch 26/50\n",
      "23/23 [==============================] - 0s 2ms/step - loss: 213.9076 - mean_squared_error: 213.9076\n",
      "Epoch 27/50\n",
      "23/23 [==============================] - 0s 2ms/step - loss: 211.7782 - mean_squared_error: 211.7782\n",
      "Epoch 28/50\n",
      "23/23 [==============================] - 0s 2ms/step - loss: 209.4417 - mean_squared_error: 209.4417\n",
      "Epoch 29/50\n",
      "23/23 [==============================] - 0s 2ms/step - loss: 207.1088 - mean_squared_error: 207.1088\n",
      "Epoch 30/50\n",
      "23/23 [==============================] - 0s 2ms/step - loss: 205.1361 - mean_squared_error: 205.1361\n",
      "Epoch 31/50\n",
      "23/23 [==============================] - 0s 2ms/step - loss: 202.8848 - mean_squared_error: 202.8848\n",
      "Epoch 32/50\n",
      "23/23 [==============================] - 0s 1ms/step - loss: 200.9523 - mean_squared_error: 200.9523\n",
      "Epoch 33/50\n",
      "23/23 [==============================] - 0s 2ms/step - loss: 198.7418 - mean_squared_error: 198.7418\n",
      "Epoch 34/50\n",
      "23/23 [==============================] - 0s 2ms/step - loss: 196.8145 - mean_squared_error: 196.8145\n",
      "Epoch 35/50\n",
      "23/23 [==============================] - 0s 2ms/step - loss: 195.6662 - mean_squared_error: 195.6662\n",
      "Epoch 36/50\n",
      "23/23 [==============================] - 0s 1ms/step - loss: 193.3510 - mean_squared_error: 193.3510\n",
      "Epoch 37/50\n",
      "23/23 [==============================] - 0s 2ms/step - loss: 191.1851 - mean_squared_error: 191.1851\n",
      "Epoch 38/50\n",
      "23/23 [==============================] - 0s 2ms/step - loss: 190.4128 - mean_squared_error: 190.4128\n",
      "Epoch 39/50\n",
      "23/23 [==============================] - 0s 2ms/step - loss: 188.1621 - mean_squared_error: 188.1621\n",
      "Epoch 40/50\n",
      "23/23 [==============================] - 0s 2ms/step - loss: 186.5208 - mean_squared_error: 186.5208\n",
      "Epoch 41/50\n",
      "23/23 [==============================] - 0s 2ms/step - loss: 184.9869 - mean_squared_error: 184.9869\n",
      "Epoch 42/50\n",
      "23/23 [==============================] - 0s 1ms/step - loss: 184.2487 - mean_squared_error: 184.2487\n",
      "Epoch 43/50\n",
      "23/23 [==============================] - 0s 2ms/step - loss: 181.8440 - mean_squared_error: 181.8440\n",
      "Epoch 44/50\n",
      "23/23 [==============================] - 0s 2ms/step - loss: 180.4995 - mean_squared_error: 180.4995\n",
      "Epoch 45/50\n",
      "23/23 [==============================] - 0s 2ms/step - loss: 179.3463 - mean_squared_error: 179.3463\n",
      "Epoch 46/50\n",
      "23/23 [==============================] - 0s 2ms/step - loss: 177.4462 - mean_squared_error: 177.4462\n",
      "Epoch 47/50\n",
      "23/23 [==============================] - 0s 2ms/step - loss: 176.0943 - mean_squared_error: 176.0943\n",
      "Epoch 48/50\n",
      "23/23 [==============================] - 0s 2ms/step - loss: 174.9908 - mean_squared_error: 174.9908\n",
      "Epoch 49/50\n",
      "23/23 [==============================] - 0s 1ms/step - loss: 173.4811 - mean_squared_error: 173.4811\n",
      "Epoch 50/50\n",
      "23/23 [==============================] - 0s 2ms/step - loss: 171.9419 - mean_squared_error: 171.9419\n"
     ]
    },
    {
     "data": {
      "text/plain": [
       "<keras.callbacks.History at 0x7f97bf3056d0>"
      ]
     },
     "execution_count": 34,
     "metadata": {},
     "output_type": "execute_result"
    }
   ],
   "source": [
    "model.compile(loss= \"mean_squared_error\" , optimizer=\"adam\", metrics=[\"mean_squared_error\"])\n",
    "model.fit(X_train, y_train, epochs=50)"
   ]
  },
  {
   "cell_type": "code",
   "execution_count": 35,
   "metadata": {
    "id": "lBlrNAFrF_5b"
   },
   "outputs": [],
   "source": [
    "pred= model.predict(X_test)"
   ]
  },
  {
   "cell_type": "code",
   "execution_count": 36,
   "metadata": {
    "colab": {
     "base_uri": "https://localhost:8080/"
    },
    "id": "7fz9Gz3eF9St",
    "outputId": "9c032d6f-81ba-41bf-e8ae-209a438a25c9"
   },
   "outputs": [
    {
     "name": "stdout",
     "output_type": "stream",
     "text": [
      "13.441626008141066\n"
     ]
    }
   ],
   "source": [
    "print(np.sqrt(mean_squared_error(y_test,pred))) "
   ]
  },
  {
   "cell_type": "markdown",
   "metadata": {
    "id": "nY-UZWbyDiS5"
   },
   "source": [
    "## B. Use a Normalized Version of The Data"
   ]
  },
  {
   "cell_type": "code",
   "execution_count": 43,
   "metadata": {
    "id": "XLqSFCdIDiS6"
   },
   "outputs": [],
   "source": [
    "X_training_scaled = preprocessing.StandardScaler().fit_transform(X_train)\n",
    "X_test_scaled = preprocessing.StandardScaler().fit_transform(X_test)"
   ]
  },
  {
   "cell_type": "code",
   "execution_count": 38,
   "metadata": {
    "id": "F5DWDGM0DiS6"
   },
   "outputs": [],
   "source": [
    "#creating a simple regression neural network\n",
    "model = Sequential()\n",
    "model.add(Dense(10, input_dim=8, activation= \"relu\"))\n",
    "model.add(Dense(1))"
   ]
  },
  {
   "cell_type": "code",
   "execution_count": 39,
   "metadata": {
    "colab": {
     "base_uri": "https://localhost:8080/"
    },
    "id": "SxDiErJjFaDw",
    "outputId": "8961759d-f1bf-469d-c36a-c82023bf8cc2"
   },
   "outputs": [
    {
     "name": "stdout",
     "output_type": "stream",
     "text": [
      "Epoch 1/50\n",
      "23/23 [==============================] - 0s 2ms/step - loss: 1573.9530 - mean_squared_error: 1573.9530\n",
      "Epoch 2/50\n",
      "23/23 [==============================] - 0s 2ms/step - loss: 1557.6790 - mean_squared_error: 1557.6790\n",
      "Epoch 3/50\n",
      "23/23 [==============================] - 0s 1ms/step - loss: 1541.1881 - mean_squared_error: 1541.1881\n",
      "Epoch 4/50\n",
      "23/23 [==============================] - 0s 1ms/step - loss: 1524.2448 - mean_squared_error: 1524.2448\n",
      "Epoch 5/50\n",
      "23/23 [==============================] - 0s 2ms/step - loss: 1507.1198 - mean_squared_error: 1507.1198\n",
      "Epoch 6/50\n",
      "23/23 [==============================] - 0s 2ms/step - loss: 1489.0044 - mean_squared_error: 1489.0044\n",
      "Epoch 7/50\n",
      "23/23 [==============================] - 0s 1ms/step - loss: 1470.6414 - mean_squared_error: 1470.6414\n",
      "Epoch 8/50\n",
      "23/23 [==============================] - 0s 2ms/step - loss: 1451.5063 - mean_squared_error: 1451.5063\n",
      "Epoch 9/50\n",
      "23/23 [==============================] - 0s 2ms/step - loss: 1431.5809 - mean_squared_error: 1431.5809\n",
      "Epoch 10/50\n",
      "23/23 [==============================] - 0s 2ms/step - loss: 1410.9742 - mean_squared_error: 1410.9742\n",
      "Epoch 11/50\n",
      "23/23 [==============================] - 0s 2ms/step - loss: 1389.4396 - mean_squared_error: 1389.4396\n",
      "Epoch 12/50\n",
      "23/23 [==============================] - 0s 2ms/step - loss: 1367.4293 - mean_squared_error: 1367.4293\n",
      "Epoch 13/50\n",
      "23/23 [==============================] - 0s 2ms/step - loss: 1344.6281 - mean_squared_error: 1344.6281\n",
      "Epoch 14/50\n",
      "23/23 [==============================] - 0s 2ms/step - loss: 1320.9646 - mean_squared_error: 1320.9646\n",
      "Epoch 15/50\n",
      "23/23 [==============================] - 0s 2ms/step - loss: 1296.9929 - mean_squared_error: 1296.9929\n",
      "Epoch 16/50\n",
      "23/23 [==============================] - 0s 2ms/step - loss: 1272.0366 - mean_squared_error: 1272.0366\n",
      "Epoch 17/50\n",
      "23/23 [==============================] - 0s 2ms/step - loss: 1247.1018 - mean_squared_error: 1247.1018\n",
      "Epoch 18/50\n",
      "23/23 [==============================] - 0s 2ms/step - loss: 1221.2842 - mean_squared_error: 1221.2842\n",
      "Epoch 19/50\n",
      "23/23 [==============================] - 0s 2ms/step - loss: 1195.0438 - mean_squared_error: 1195.0438\n",
      "Epoch 20/50\n",
      "23/23 [==============================] - 0s 2ms/step - loss: 1168.4799 - mean_squared_error: 1168.4799\n",
      "Epoch 21/50\n",
      "23/23 [==============================] - 0s 2ms/step - loss: 1141.2841 - mean_squared_error: 1141.2841\n",
      "Epoch 22/50\n",
      "23/23 [==============================] - 0s 2ms/step - loss: 1113.9777 - mean_squared_error: 1113.9777\n",
      "Epoch 23/50\n",
      "23/23 [==============================] - 0s 2ms/step - loss: 1086.3082 - mean_squared_error: 1086.3082\n",
      "Epoch 24/50\n",
      "23/23 [==============================] - 0s 2ms/step - loss: 1058.3970 - mean_squared_error: 1058.3970\n",
      "Epoch 25/50\n",
      "23/23 [==============================] - 0s 2ms/step - loss: 1030.4775 - mean_squared_error: 1030.4775\n",
      "Epoch 26/50\n",
      "23/23 [==============================] - 0s 2ms/step - loss: 1002.0114 - mean_squared_error: 1002.0114\n",
      "Epoch 27/50\n",
      "23/23 [==============================] - 0s 2ms/step - loss: 973.1108 - mean_squared_error: 973.1108\n",
      "Epoch 28/50\n",
      "23/23 [==============================] - 0s 2ms/step - loss: 943.7327 - mean_squared_error: 943.7327\n",
      "Epoch 29/50\n",
      "23/23 [==============================] - 0s 2ms/step - loss: 914.4163 - mean_squared_error: 914.4163\n",
      "Epoch 30/50\n",
      "23/23 [==============================] - 0s 2ms/step - loss: 883.2694 - mean_squared_error: 883.2694\n",
      "Epoch 31/50\n",
      "23/23 [==============================] - 0s 1ms/step - loss: 852.9581 - mean_squared_error: 852.9581\n",
      "Epoch 32/50\n",
      "23/23 [==============================] - 0s 1ms/step - loss: 821.6145 - mean_squared_error: 821.6145\n",
      "Epoch 33/50\n",
      "23/23 [==============================] - 0s 2ms/step - loss: 790.1924 - mean_squared_error: 790.1924\n",
      "Epoch 34/50\n",
      "23/23 [==============================] - 0s 1ms/step - loss: 759.1974 - mean_squared_error: 759.1974\n",
      "Epoch 35/50\n",
      "23/23 [==============================] - 0s 2ms/step - loss: 728.2232 - mean_squared_error: 728.2232\n",
      "Epoch 36/50\n",
      "23/23 [==============================] - 0s 1ms/step - loss: 697.4485 - mean_squared_error: 697.4485\n",
      "Epoch 37/50\n",
      "23/23 [==============================] - 0s 2ms/step - loss: 667.1638 - mean_squared_error: 667.1638\n",
      "Epoch 38/50\n",
      "23/23 [==============================] - 0s 2ms/step - loss: 638.1016 - mean_squared_error: 638.1016\n",
      "Epoch 39/50\n",
      "23/23 [==============================] - 0s 2ms/step - loss: 608.9445 - mean_squared_error: 608.9445\n",
      "Epoch 40/50\n",
      "23/23 [==============================] - 0s 2ms/step - loss: 580.7833 - mean_squared_error: 580.7833\n",
      "Epoch 41/50\n",
      "23/23 [==============================] - 0s 2ms/step - loss: 553.3755 - mean_squared_error: 553.3755\n",
      "Epoch 42/50\n",
      "23/23 [==============================] - 0s 1ms/step - loss: 527.4002 - mean_squared_error: 527.4002\n",
      "Epoch 43/50\n",
      "23/23 [==============================] - 0s 1ms/step - loss: 501.3815 - mean_squared_error: 501.3815\n",
      "Epoch 44/50\n",
      "23/23 [==============================] - 0s 1ms/step - loss: 477.0889 - mean_squared_error: 477.0889\n",
      "Epoch 45/50\n",
      "23/23 [==============================] - 0s 2ms/step - loss: 453.4691 - mean_squared_error: 453.4691\n",
      "Epoch 46/50\n",
      "23/23 [==============================] - 0s 1ms/step - loss: 431.7763 - mean_squared_error: 431.7763\n",
      "Epoch 47/50\n",
      "23/23 [==============================] - 0s 1ms/step - loss: 410.5171 - mean_squared_error: 410.5171\n",
      "Epoch 48/50\n",
      "23/23 [==============================] - 0s 1ms/step - loss: 390.8848 - mean_squared_error: 390.8848\n",
      "Epoch 49/50\n",
      "23/23 [==============================] - 0s 1ms/step - loss: 372.7157 - mean_squared_error: 372.7157\n",
      "Epoch 50/50\n",
      "23/23 [==============================] - 0s 2ms/step - loss: 355.4922 - mean_squared_error: 355.4922\n"
     ]
    },
    {
     "data": {
      "text/plain": [
       "<keras.callbacks.History at 0x7f97bf189b90>"
      ]
     },
     "execution_count": 39,
     "metadata": {},
     "output_type": "execute_result"
    }
   ],
   "source": [
    "model.compile(loss= \"mean_squared_error\" , optimizer=\"adam\", metrics=[\"mean_squared_error\"])\n",
    "model.fit(X_training_scaled, y_train, epochs=50)"
   ]
  },
  {
   "cell_type": "code",
   "execution_count": 44,
   "metadata": {
    "id": "CwnWBgPw7XjK"
   },
   "outputs": [],
   "source": [
    "pred= model.predict(X_test_scaled)"
   ]
  },
  {
   "cell_type": "code",
   "execution_count": 45,
   "metadata": {
    "colab": {
     "base_uri": "https://localhost:8080/"
    },
    "id": "lNTSGz7I7t8x",
    "outputId": "fd2259cd-3e6b-432c-8f9b-13684d5c8657"
   },
   "outputs": [
    {
     "name": "stdout",
     "output_type": "stream",
     "text": [
      "17.16178704633363\n"
     ]
    }
   ],
   "source": [
    "print(np.sqrt(mean_squared_error(y_test,pred))) "
   ]
  },
  {
   "cell_type": "markdown",
   "metadata": {
    "id": "eXwOAnC5F2ek"
   },
   "source": [
    "## C. Repeat Part B but use 100 epochs this time for training."
   ]
  },
  {
   "cell_type": "code",
   "execution_count": 46,
   "metadata": {
    "id": "-SOf3bw-GLIl"
   },
   "outputs": [],
   "source": [
    "#creating a simple regression neural network\n",
    "model = Sequential()\n",
    "model.add(Dense(10, input_dim=8, activation= \"relu\"))\n",
    "model.add(Dense(1))"
   ]
  },
  {
   "cell_type": "code",
   "execution_count": 47,
   "metadata": {
    "colab": {
     "base_uri": "https://localhost:8080/"
    },
    "id": "oWM5WHbUGiey",
    "outputId": "5deff9d6-2f6c-4c6c-9321-03ed4d7458ea"
   },
   "outputs": [
    {
     "name": "stdout",
     "output_type": "stream",
     "text": [
      "Epoch 1/100\n",
      "23/23 [==============================] - 0s 2ms/step - loss: 1521.9924 - mean_squared_error: 1521.9924\n",
      "Epoch 2/100\n",
      "23/23 [==============================] - 0s 1ms/step - loss: 1501.6984 - mean_squared_error: 1501.6984\n",
      "Epoch 3/100\n",
      "23/23 [==============================] - 0s 1ms/step - loss: 1481.1073 - mean_squared_error: 1481.1073\n",
      "Epoch 4/100\n",
      "23/23 [==============================] - 0s 1ms/step - loss: 1459.9844 - mean_squared_error: 1459.9844\n",
      "Epoch 5/100\n",
      "23/23 [==============================] - 0s 1ms/step - loss: 1438.5377 - mean_squared_error: 1438.5377\n",
      "Epoch 6/100\n",
      "23/23 [==============================] - 0s 2ms/step - loss: 1416.1321 - mean_squared_error: 1416.1321\n",
      "Epoch 7/100\n",
      "23/23 [==============================] - 0s 2ms/step - loss: 1392.8826 - mean_squared_error: 1392.8826\n",
      "Epoch 8/100\n",
      "23/23 [==============================] - 0s 2ms/step - loss: 1368.9928 - mean_squared_error: 1368.9928\n",
      "Epoch 9/100\n",
      "23/23 [==============================] - 0s 2ms/step - loss: 1343.4801 - mean_squared_error: 1343.4801\n",
      "Epoch 10/100\n",
      "23/23 [==============================] - 0s 2ms/step - loss: 1317.3046 - mean_squared_error: 1317.3046\n",
      "Epoch 11/100\n",
      "23/23 [==============================] - 0s 2ms/step - loss: 1290.1771 - mean_squared_error: 1290.1771\n",
      "Epoch 12/100\n",
      "23/23 [==============================] - 0s 2ms/step - loss: 1261.7462 - mean_squared_error: 1261.7462\n",
      "Epoch 13/100\n",
      "23/23 [==============================] - 0s 2ms/step - loss: 1232.4858 - mean_squared_error: 1232.4858\n",
      "Epoch 14/100\n",
      "23/23 [==============================] - 0s 1ms/step - loss: 1202.1855 - mean_squared_error: 1202.1855\n",
      "Epoch 15/100\n",
      "23/23 [==============================] - 0s 2ms/step - loss: 1171.1969 - mean_squared_error: 1171.1969\n",
      "Epoch 16/100\n",
      "23/23 [==============================] - 0s 2ms/step - loss: 1139.2274 - mean_squared_error: 1139.2274\n",
      "Epoch 17/100\n",
      "23/23 [==============================] - 0s 1ms/step - loss: 1106.7161 - mean_squared_error: 1106.7161\n",
      "Epoch 18/100\n",
      "23/23 [==============================] - 0s 2ms/step - loss: 1073.8101 - mean_squared_error: 1073.8101\n",
      "Epoch 19/100\n",
      "23/23 [==============================] - 0s 2ms/step - loss: 1040.5115 - mean_squared_error: 1040.5115\n",
      "Epoch 20/100\n",
      "23/23 [==============================] - 0s 2ms/step - loss: 1007.0874 - mean_squared_error: 1007.0874\n",
      "Epoch 21/100\n",
      "23/23 [==============================] - 0s 1ms/step - loss: 973.3793 - mean_squared_error: 973.3793\n",
      "Epoch 22/100\n",
      "23/23 [==============================] - 0s 1ms/step - loss: 939.4891 - mean_squared_error: 939.4891\n",
      "Epoch 23/100\n",
      "23/23 [==============================] - 0s 2ms/step - loss: 905.7007 - mean_squared_error: 905.7007\n",
      "Epoch 24/100\n",
      "23/23 [==============================] - 0s 2ms/step - loss: 872.1722 - mean_squared_error: 872.1722\n",
      "Epoch 25/100\n",
      "23/23 [==============================] - 0s 2ms/step - loss: 838.7360 - mean_squared_error: 838.7360\n",
      "Epoch 26/100\n",
      "23/23 [==============================] - 0s 1ms/step - loss: 805.4733 - mean_squared_error: 805.4733\n",
      "Epoch 27/100\n",
      "23/23 [==============================] - 0s 2ms/step - loss: 772.8600 - mean_squared_error: 772.8600\n",
      "Epoch 28/100\n",
      "23/23 [==============================] - 0s 2ms/step - loss: 740.9749 - mean_squared_error: 740.9749\n",
      "Epoch 29/100\n",
      "23/23 [==============================] - 0s 2ms/step - loss: 709.7195 - mean_squared_error: 709.7195\n",
      "Epoch 30/100\n",
      "23/23 [==============================] - 0s 2ms/step - loss: 679.7831 - mean_squared_error: 679.7831\n",
      "Epoch 31/100\n",
      "23/23 [==============================] - 0s 1ms/step - loss: 649.6897 - mean_squared_error: 649.6897\n",
      "Epoch 32/100\n",
      "23/23 [==============================] - 0s 2ms/step - loss: 621.1097 - mean_squared_error: 621.1097\n",
      "Epoch 33/100\n",
      "23/23 [==============================] - 0s 2ms/step - loss: 593.3918 - mean_squared_error: 593.3918\n",
      "Epoch 34/100\n",
      "23/23 [==============================] - 0s 2ms/step - loss: 566.7460 - mean_squared_error: 566.7460\n",
      "Epoch 35/100\n",
      "23/23 [==============================] - 0s 2ms/step - loss: 541.1420 - mean_squared_error: 541.1420\n",
      "Epoch 36/100\n",
      "23/23 [==============================] - 0s 2ms/step - loss: 516.6193 - mean_squared_error: 516.6193\n",
      "Epoch 37/100\n",
      "23/23 [==============================] - 0s 2ms/step - loss: 493.2882 - mean_squared_error: 493.2882\n",
      "Epoch 38/100\n",
      "23/23 [==============================] - 0s 1ms/step - loss: 471.2857 - mean_squared_error: 471.2857\n",
      "Epoch 39/100\n",
      "23/23 [==============================] - 0s 1ms/step - loss: 450.6490 - mean_squared_error: 450.6490\n",
      "Epoch 40/100\n",
      "23/23 [==============================] - 0s 2ms/step - loss: 430.6864 - mean_squared_error: 430.6864\n",
      "Epoch 41/100\n",
      "23/23 [==============================] - 0s 2ms/step - loss: 412.4598 - mean_squared_error: 412.4598\n",
      "Epoch 42/100\n",
      "23/23 [==============================] - 0s 1ms/step - loss: 394.8513 - mean_squared_error: 394.8513\n",
      "Epoch 43/100\n",
      "23/23 [==============================] - 0s 2ms/step - loss: 378.5268 - mean_squared_error: 378.5268\n",
      "Epoch 44/100\n",
      "23/23 [==============================] - 0s 2ms/step - loss: 363.2467 - mean_squared_error: 363.2467\n",
      "Epoch 45/100\n",
      "23/23 [==============================] - 0s 1ms/step - loss: 349.2230 - mean_squared_error: 349.2230\n",
      "Epoch 46/100\n",
      "23/23 [==============================] - 0s 2ms/step - loss: 335.6660 - mean_squared_error: 335.6660\n",
      "Epoch 47/100\n",
      "23/23 [==============================] - 0s 1ms/step - loss: 323.4103 - mean_squared_error: 323.4103\n",
      "Epoch 48/100\n",
      "23/23 [==============================] - 0s 2ms/step - loss: 312.1117 - mean_squared_error: 312.1117\n",
      "Epoch 49/100\n",
      "23/23 [==============================] - 0s 1ms/step - loss: 301.3220 - mean_squared_error: 301.3220\n",
      "Epoch 50/100\n",
      "23/23 [==============================] - 0s 2ms/step - loss: 291.6215 - mean_squared_error: 291.6215\n",
      "Epoch 51/100\n",
      "23/23 [==============================] - 0s 1ms/step - loss: 282.2018 - mean_squared_error: 282.2018\n",
      "Epoch 52/100\n",
      "23/23 [==============================] - 0s 2ms/step - loss: 273.8658 - mean_squared_error: 273.8658\n",
      "Epoch 53/100\n",
      "23/23 [==============================] - 0s 2ms/step - loss: 266.1313 - mean_squared_error: 266.1313\n",
      "Epoch 54/100\n",
      "23/23 [==============================] - 0s 2ms/step - loss: 258.9204 - mean_squared_error: 258.9204\n",
      "Epoch 55/100\n",
      "23/23 [==============================] - 0s 2ms/step - loss: 252.1740 - mean_squared_error: 252.1740\n",
      "Epoch 56/100\n",
      "23/23 [==============================] - 0s 2ms/step - loss: 246.2030 - mean_squared_error: 246.2030\n",
      "Epoch 57/100\n",
      "23/23 [==============================] - 0s 2ms/step - loss: 240.4498 - mean_squared_error: 240.4498\n",
      "Epoch 58/100\n",
      "23/23 [==============================] - 0s 2ms/step - loss: 235.4228 - mean_squared_error: 235.4228\n",
      "Epoch 59/100\n",
      "23/23 [==============================] - 0s 1ms/step - loss: 230.4989 - mean_squared_error: 230.4989\n",
      "Epoch 60/100\n",
      "23/23 [==============================] - 0s 2ms/step - loss: 226.1103 - mean_squared_error: 226.1103\n",
      "Epoch 61/100\n",
      "23/23 [==============================] - 0s 1ms/step - loss: 222.0298 - mean_squared_error: 222.0298\n",
      "Epoch 62/100\n",
      "23/23 [==============================] - 0s 2ms/step - loss: 218.0759 - mean_squared_error: 218.0759\n",
      "Epoch 63/100\n",
      "23/23 [==============================] - 0s 2ms/step - loss: 214.4702 - mean_squared_error: 214.4702\n",
      "Epoch 64/100\n",
      "23/23 [==============================] - 0s 2ms/step - loss: 210.9850 - mean_squared_error: 210.9850\n",
      "Epoch 65/100\n",
      "23/23 [==============================] - 0s 2ms/step - loss: 207.7690 - mean_squared_error: 207.7690\n",
      "Epoch 66/100\n",
      "23/23 [==============================] - 0s 2ms/step - loss: 204.9976 - mean_squared_error: 204.9976\n",
      "Epoch 67/100\n",
      "23/23 [==============================] - 0s 1ms/step - loss: 202.0069 - mean_squared_error: 202.0069\n",
      "Epoch 68/100\n",
      "23/23 [==============================] - 0s 2ms/step - loss: 199.4996 - mean_squared_error: 199.4996\n",
      "Epoch 69/100\n",
      "23/23 [==============================] - 0s 2ms/step - loss: 197.0034 - mean_squared_error: 197.0034\n",
      "Epoch 70/100\n",
      "23/23 [==============================] - 0s 2ms/step - loss: 194.7066 - mean_squared_error: 194.7066\n",
      "Epoch 71/100\n",
      "23/23 [==============================] - 0s 2ms/step - loss: 192.5234 - mean_squared_error: 192.5234\n",
      "Epoch 72/100\n",
      "23/23 [==============================] - 0s 2ms/step - loss: 190.5289 - mean_squared_error: 190.5289\n",
      "Epoch 73/100\n",
      "23/23 [==============================] - 0s 2ms/step - loss: 188.4682 - mean_squared_error: 188.4682\n",
      "Epoch 74/100\n",
      "23/23 [==============================] - 0s 1ms/step - loss: 186.6581 - mean_squared_error: 186.6581\n",
      "Epoch 75/100\n",
      "23/23 [==============================] - 0s 2ms/step - loss: 184.8472 - mean_squared_error: 184.8472\n",
      "Epoch 76/100\n",
      "23/23 [==============================] - 0s 2ms/step - loss: 183.1017 - mean_squared_error: 183.1017\n",
      "Epoch 77/100\n",
      "23/23 [==============================] - 0s 2ms/step - loss: 181.3907 - mean_squared_error: 181.3907\n",
      "Epoch 78/100\n",
      "23/23 [==============================] - 0s 2ms/step - loss: 179.8293 - mean_squared_error: 179.8293\n",
      "Epoch 79/100\n",
      "23/23 [==============================] - 0s 2ms/step - loss: 178.2997 - mean_squared_error: 178.2997\n",
      "Epoch 80/100\n",
      "23/23 [==============================] - 0s 2ms/step - loss: 176.7814 - mean_squared_error: 176.7814\n",
      "Epoch 81/100\n",
      "23/23 [==============================] - 0s 2ms/step - loss: 175.3402 - mean_squared_error: 175.3402\n",
      "Epoch 82/100\n",
      "23/23 [==============================] - 0s 2ms/step - loss: 173.9330 - mean_squared_error: 173.9330\n",
      "Epoch 83/100\n",
      "23/23 [==============================] - 0s 1ms/step - loss: 172.5531 - mean_squared_error: 172.5531\n",
      "Epoch 84/100\n",
      "23/23 [==============================] - 0s 2ms/step - loss: 171.3013 - mean_squared_error: 171.3013\n",
      "Epoch 85/100\n",
      "23/23 [==============================] - 0s 1ms/step - loss: 169.9796 - mean_squared_error: 169.9796\n",
      "Epoch 86/100\n",
      "23/23 [==============================] - 0s 1ms/step - loss: 168.6864 - mean_squared_error: 168.6864\n",
      "Epoch 87/100\n",
      "23/23 [==============================] - 0s 2ms/step - loss: 167.5091 - mean_squared_error: 167.5091\n",
      "Epoch 88/100\n",
      "23/23 [==============================] - 0s 1ms/step - loss: 166.3079 - mean_squared_error: 166.3079\n",
      "Epoch 89/100\n",
      "23/23 [==============================] - 0s 2ms/step - loss: 165.1236 - mean_squared_error: 165.1236\n",
      "Epoch 90/100\n",
      "23/23 [==============================] - 0s 2ms/step - loss: 163.9940 - mean_squared_error: 163.9940\n",
      "Epoch 91/100\n",
      "23/23 [==============================] - 0s 2ms/step - loss: 162.8417 - mean_squared_error: 162.8417\n",
      "Epoch 92/100\n",
      "23/23 [==============================] - 0s 2ms/step - loss: 161.6961 - mean_squared_error: 161.6961\n",
      "Epoch 93/100\n",
      "23/23 [==============================] - 0s 2ms/step - loss: 160.6370 - mean_squared_error: 160.6370\n",
      "Epoch 94/100\n",
      "23/23 [==============================] - 0s 2ms/step - loss: 159.5530 - mean_squared_error: 159.5530\n",
      "Epoch 95/100\n",
      "23/23 [==============================] - 0s 2ms/step - loss: 158.4782 - mean_squared_error: 158.4782\n",
      "Epoch 96/100\n",
      "23/23 [==============================] - 0s 2ms/step - loss: 157.3186 - mean_squared_error: 157.3186\n",
      "Epoch 97/100\n",
      "23/23 [==============================] - 0s 2ms/step - loss: 156.1807 - mean_squared_error: 156.1807\n",
      "Epoch 98/100\n",
      "23/23 [==============================] - 0s 2ms/step - loss: 155.1403 - mean_squared_error: 155.1403\n",
      "Epoch 99/100\n",
      "23/23 [==============================] - 0s 2ms/step - loss: 154.0745 - mean_squared_error: 154.0745\n",
      "Epoch 100/100\n",
      "23/23 [==============================] - 0s 2ms/step - loss: 153.0108 - mean_squared_error: 153.0108\n"
     ]
    },
    {
     "data": {
      "text/plain": [
       "<keras.callbacks.History at 0x7f97bdaa7d90>"
      ]
     },
     "execution_count": 47,
     "metadata": {},
     "output_type": "execute_result"
    }
   ],
   "source": [
    "model.compile(loss= \"mean_squared_error\" , optimizer=\"adam\", metrics=[\"mean_squared_error\"])\n",
    "model.fit(X_training_scaled, y_train, epochs=100)"
   ]
  },
  {
   "cell_type": "code",
   "execution_count": 48,
   "metadata": {
    "id": "HPFco7WvGMKN"
   },
   "outputs": [],
   "source": [
    "pred= model.predict(X_test_scaled)"
   ]
  },
  {
   "cell_type": "code",
   "execution_count": 49,
   "metadata": {
    "colab": {
     "base_uri": "https://localhost:8080/"
    },
    "id": "yydwWZiSGU6v",
    "outputId": "d317c5ce-85ba-48d6-9ca4-2b049a07a778"
   },
   "outputs": [
    {
     "name": "stdout",
     "output_type": "stream",
     "text": [
      "11.684617582978113\n"
     ]
    }
   ],
   "source": [
    "print(np.sqrt(mean_squared_error(y_test,pred))) "
   ]
  },
  {
   "cell_type": "markdown",
   "metadata": {
    "id": "ZEJk700rGWXu"
   },
   "source": [
    "## D. Three hidden layers, each of 10 nodes and ReLU activation function"
   ]
  },
  {
   "cell_type": "code",
   "execution_count": 50,
   "metadata": {
    "id": "L2acbbELGacX"
   },
   "outputs": [],
   "source": [
    "#creating a simple regression neural network\n",
    "model = Sequential()\n",
    "model.add(Dense(10, input_dim=8, activation= \"relu\"))\n",
    "model.add(Dense(10, input_dim=8, activation= \"relu\"))\n",
    "model.add(Dense(10, input_dim=8, activation= \"relu\"))\n",
    "model.add(Dense(1))"
   ]
  },
  {
   "cell_type": "code",
   "execution_count": 51,
   "metadata": {
    "colab": {
     "base_uri": "https://localhost:8080/"
    },
    "id": "Vexug4mHGf1T",
    "outputId": "8a0a32c9-7ca7-49ed-83be-0017d9bd838c"
   },
   "outputs": [
    {
     "name": "stdout",
     "output_type": "stream",
     "text": [
      "Epoch 1/50\n",
      "23/23 [==============================] - 0s 3ms/step - loss: 1616.6113 - mean_squared_error: 1616.6113\n",
      "Epoch 2/50\n",
      "23/23 [==============================] - 0s 2ms/step - loss: 1600.7961 - mean_squared_error: 1600.7961\n",
      "Epoch 3/50\n",
      "23/23 [==============================] - 0s 2ms/step - loss: 1590.7769 - mean_squared_error: 1590.7769\n",
      "Epoch 4/50\n",
      "23/23 [==============================] - 0s 2ms/step - loss: 1581.9125 - mean_squared_error: 1581.9125\n",
      "Epoch 5/50\n",
      "23/23 [==============================] - 0s 2ms/step - loss: 1565.5688 - mean_squared_error: 1565.5688\n",
      "Epoch 6/50\n",
      "23/23 [==============================] - 0s 2ms/step - loss: 1534.9312 - mean_squared_error: 1534.9312\n",
      "Epoch 7/50\n",
      "23/23 [==============================] - 0s 2ms/step - loss: 1484.2513 - mean_squared_error: 1484.2513\n",
      "Epoch 8/50\n",
      "23/23 [==============================] - 0s 2ms/step - loss: 1403.6063 - mean_squared_error: 1403.6063\n",
      "Epoch 9/50\n",
      "23/23 [==============================] - 0s 2ms/step - loss: 1284.1542 - mean_squared_error: 1284.1542\n",
      "Epoch 10/50\n",
      "23/23 [==============================] - 0s 2ms/step - loss: 1120.7615 - mean_squared_error: 1120.7615\n",
      "Epoch 11/50\n",
      "23/23 [==============================] - 0s 2ms/step - loss: 913.2689 - mean_squared_error: 913.2689\n",
      "Epoch 12/50\n",
      "23/23 [==============================] - 0s 2ms/step - loss: 689.5611 - mean_squared_error: 689.5611\n",
      "Epoch 13/50\n",
      "23/23 [==============================] - 0s 2ms/step - loss: 482.3888 - mean_squared_error: 482.3888\n",
      "Epoch 14/50\n",
      "23/23 [==============================] - 0s 2ms/step - loss: 332.3878 - mean_squared_error: 332.3878\n",
      "Epoch 15/50\n",
      "23/23 [==============================] - 0s 2ms/step - loss: 249.3829 - mean_squared_error: 249.3829\n",
      "Epoch 16/50\n",
      "23/23 [==============================] - 0s 2ms/step - loss: 214.3211 - mean_squared_error: 214.3211\n",
      "Epoch 17/50\n",
      "23/23 [==============================] - 0s 2ms/step - loss: 200.0595 - mean_squared_error: 200.0595\n",
      "Epoch 18/50\n",
      "23/23 [==============================] - 0s 2ms/step - loss: 190.5025 - mean_squared_error: 190.5025\n",
      "Epoch 19/50\n",
      "23/23 [==============================] - 0s 2ms/step - loss: 184.5487 - mean_squared_error: 184.5487\n",
      "Epoch 20/50\n",
      "23/23 [==============================] - 0s 2ms/step - loss: 179.9492 - mean_squared_error: 179.9492\n",
      "Epoch 21/50\n",
      "23/23 [==============================] - 0s 3ms/step - loss: 175.5295 - mean_squared_error: 175.5295\n",
      "Epoch 22/50\n",
      "23/23 [==============================] - 0s 2ms/step - loss: 172.7414 - mean_squared_error: 172.7414\n",
      "Epoch 23/50\n",
      "23/23 [==============================] - 0s 2ms/step - loss: 169.7545 - mean_squared_error: 169.7545\n",
      "Epoch 24/50\n",
      "23/23 [==============================] - 0s 2ms/step - loss: 167.1290 - mean_squared_error: 167.1290\n",
      "Epoch 25/50\n",
      "23/23 [==============================] - 0s 2ms/step - loss: 164.7388 - mean_squared_error: 164.7388\n",
      "Epoch 26/50\n",
      "23/23 [==============================] - 0s 2ms/step - loss: 162.1400 - mean_squared_error: 162.1400\n",
      "Epoch 27/50\n",
      "23/23 [==============================] - 0s 2ms/step - loss: 159.7502 - mean_squared_error: 159.7502\n",
      "Epoch 28/50\n",
      "23/23 [==============================] - 0s 2ms/step - loss: 158.5534 - mean_squared_error: 158.5534\n",
      "Epoch 29/50\n",
      "23/23 [==============================] - 0s 2ms/step - loss: 155.2733 - mean_squared_error: 155.2733\n",
      "Epoch 30/50\n",
      "23/23 [==============================] - 0s 2ms/step - loss: 153.0604 - mean_squared_error: 153.0604\n",
      "Epoch 31/50\n",
      "23/23 [==============================] - 0s 2ms/step - loss: 150.7981 - mean_squared_error: 150.7981\n",
      "Epoch 32/50\n",
      "23/23 [==============================] - 0s 2ms/step - loss: 148.6724 - mean_squared_error: 148.6724\n",
      "Epoch 33/50\n",
      "23/23 [==============================] - 0s 2ms/step - loss: 146.3201 - mean_squared_error: 146.3201\n",
      "Epoch 34/50\n",
      "23/23 [==============================] - 0s 2ms/step - loss: 144.0582 - mean_squared_error: 144.0582\n",
      "Epoch 35/50\n",
      "23/23 [==============================] - 0s 2ms/step - loss: 142.2323 - mean_squared_error: 142.2323\n",
      "Epoch 36/50\n",
      "23/23 [==============================] - 0s 2ms/step - loss: 139.7821 - mean_squared_error: 139.7821\n",
      "Epoch 37/50\n",
      "23/23 [==============================] - 0s 2ms/step - loss: 137.1559 - mean_squared_error: 137.1559\n",
      "Epoch 38/50\n",
      "23/23 [==============================] - 0s 2ms/step - loss: 135.2586 - mean_squared_error: 135.2586\n",
      "Epoch 39/50\n",
      "23/23 [==============================] - 0s 2ms/step - loss: 133.2539 - mean_squared_error: 133.2539\n",
      "Epoch 40/50\n",
      "23/23 [==============================] - 0s 2ms/step - loss: 130.5761 - mean_squared_error: 130.5761\n",
      "Epoch 41/50\n",
      "23/23 [==============================] - 0s 2ms/step - loss: 128.7351 - mean_squared_error: 128.7351\n",
      "Epoch 42/50\n",
      "23/23 [==============================] - 0s 2ms/step - loss: 126.2646 - mean_squared_error: 126.2646\n",
      "Epoch 43/50\n",
      "23/23 [==============================] - 0s 2ms/step - loss: 124.2892 - mean_squared_error: 124.2892\n",
      "Epoch 44/50\n",
      "23/23 [==============================] - 0s 2ms/step - loss: 122.1215 - mean_squared_error: 122.1215\n",
      "Epoch 45/50\n",
      "23/23 [==============================] - 0s 2ms/step - loss: 120.1693 - mean_squared_error: 120.1693\n",
      "Epoch 46/50\n",
      "23/23 [==============================] - 0s 2ms/step - loss: 117.7978 - mean_squared_error: 117.7978\n",
      "Epoch 47/50\n",
      "23/23 [==============================] - 0s 2ms/step - loss: 115.5663 - mean_squared_error: 115.5663\n",
      "Epoch 48/50\n",
      "23/23 [==============================] - 0s 2ms/step - loss: 113.5847 - mean_squared_error: 113.5847\n",
      "Epoch 49/50\n",
      "23/23 [==============================] - 0s 2ms/step - loss: 111.0708 - mean_squared_error: 111.0708\n",
      "Epoch 50/50\n",
      "23/23 [==============================] - 0s 2ms/step - loss: 108.5130 - mean_squared_error: 108.5130\n"
     ]
    },
    {
     "data": {
      "text/plain": [
       "<keras.callbacks.History at 0x7f97befab5d0>"
      ]
     },
     "execution_count": 51,
     "metadata": {},
     "output_type": "execute_result"
    }
   ],
   "source": [
    "model.compile(loss= \"mean_squared_error\" , optimizer=\"adam\", metrics=[\"mean_squared_error\"])\n",
    "model.fit(X_training_scaled, y_train, epochs=50)"
   ]
  },
  {
   "cell_type": "code",
   "execution_count": 52,
   "metadata": {
    "colab": {
     "base_uri": "https://localhost:8080/"
    },
    "id": "OBq9hKd979FA",
    "outputId": "4e723048-2f08-40a4-c3a8-33b0171eb1c6"
   },
   "outputs": [
    {
     "name": "stdout",
     "output_type": "stream",
     "text": [
      "actual value is 44.28 while the predicted value is [38.398]\n",
      "actual value is 23.69 while the predicted value is [24.755]\n",
      "actual value is 45.37 while the predicted value is [46.955]\n",
      "actual value is 37.4 while the predicted value is [31.541]\n",
      "actual value is 48.85 while the predicted value is [34.093]\n",
      "actual value is 25.1 while the predicted value is [23.356]\n",
      "actual value is 10.73 while the predicted value is [18.49]\n",
      "actual value is 40.2 while the predicted value is [77.762]\n",
      "actual value is 49.8 while the predicted value is [61.475]\n",
      "actual value is 33.01 while the predicted value is [24.473]\n"
     ]
    }
   ],
   "source": [
    "for value_1, value_2 in zip(y_test[5:15], pred[5:15]):\n",
    "   print(f\"actual value is {value_1} while the predicted value is {value_2}\")"
   ]
  },
  {
   "cell_type": "code",
   "execution_count": 53,
   "metadata": {
    "colab": {
     "base_uri": "https://localhost:8080/"
    },
    "id": "fp08dk6THAfj",
    "outputId": "0d1420e0-994b-4879-b8c4-c912a8df6e7a"
   },
   "outputs": [
    {
     "name": "stdout",
     "output_type": "stream",
     "text": [
      "10.880609535826471\n"
     ]
    }
   ],
   "source": [
    "pred= model.predict(X_test_scaled)\n",
    "print(np.sqrt(mean_squared_error(y_test,pred))) "
   ]
  },
  {
   "cell_type": "code",
   "execution_count": null,
   "metadata": {
    "id": "jUop3ieABIJp"
   },
   "outputs": [],
   "source": []
  }
 ],
 "metadata": {
  "colab": {
   "name": "Introduction-to-Deep-Learning-and-Neural-Networks-with-Keras-capstone.ipynb",
   "provenance": []
  },
  "kernelspec": {
   "display_name": "Python 3 (ipykernel)",
   "language": "python",
   "name": "python3"
  },
  "language_info": {
   "codemirror_mode": {
    "name": "ipython",
    "version": 3
   },
   "file_extension": ".py",
   "mimetype": "text/x-python",
   "name": "python",
   "nbconvert_exporter": "python",
   "pygments_lexer": "ipython3",
   "version": "3.9.7"
  }
 },
 "nbformat": 4,
 "nbformat_minor": 1
}
